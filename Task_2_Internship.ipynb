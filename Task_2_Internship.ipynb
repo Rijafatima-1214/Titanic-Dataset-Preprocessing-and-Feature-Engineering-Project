{
  "nbformat": 4,
  "nbformat_minor": 0,
  "metadata": {
    "colab": {
      "provenance": []
    },
    "kernelspec": {
      "name": "python3",
      "display_name": "Python 3"
    },
    "language_info": {
      "name": "python"
    }
  },
  "cells": [
    {
      "cell_type": "code",
      "execution_count": null,
      "metadata": {
        "id": "_-x5jmCLmesf"
      },
      "outputs": [],
      "source": [
        "import pandas as pd\n",
        "df = pd.read_csv(\"/content/titanic.csv\")\n",
        "\n"
      ]
    },
    {
      "cell_type": "code",
      "source": [
        "print(df.head())"
      ],
      "metadata": {
        "colab": {
          "base_uri": "https://localhost:8080/"
        },
        "id": "AknDhwOcpsJx",
        "outputId": "264986f2-2a23-4e74-ff70-2b7a6a3af49e"
      },
      "execution_count": null,
      "outputs": [
        {
          "output_type": "stream",
          "name": "stdout",
          "text": [
            "   PassengerId  Survived  Pclass  \\\n",
            "0            1         0       3   \n",
            "1            2         1       1   \n",
            "2            3         1       3   \n",
            "3            4         1       1   \n",
            "4            5         0       3   \n",
            "\n",
            "                                                Name     Sex   Age  SibSp  \\\n",
            "0                            Braund, Mr. Owen Harris    male  22.0      1   \n",
            "1  Cumings, Mrs. John Bradley (Florence Briggs Th...  female  38.0      1   \n",
            "2                             Heikkinen, Miss. Laina  female  26.0      0   \n",
            "3       Futrelle, Mrs. Jacques Heath (Lily May Peel)  female  35.0      1   \n",
            "4                           Allen, Mr. William Henry    male  35.0      0   \n",
            "\n",
            "   Parch            Ticket     Fare Cabin Embarked  \n",
            "0      0         A/5 21171   7.2500   NaN        S  \n",
            "1      0          PC 17599  71.2833   C85        C  \n",
            "2      0  STON/O2. 3101282   7.9250   NaN        S  \n",
            "3      0            113803  53.1000  C123        S  \n",
            "4      0            373450   8.0500   NaN        S  \n"
          ]
        }
      ]
    },
    {
      "cell_type": "code",
      "source": [
        "print(df.tail())\n"
      ],
      "metadata": {
        "colab": {
          "base_uri": "https://localhost:8080/"
        },
        "id": "-UrM6ERcpwws",
        "outputId": "79431d8d-10d2-4aeb-b872-85d4d2940ef0"
      },
      "execution_count": null,
      "outputs": [
        {
          "output_type": "stream",
          "name": "stdout",
          "text": [
            "     PassengerId  Survived  Pclass                                      Name  \\\n",
            "886          887         0       2                     Montvila, Rev. Juozas   \n",
            "887          888         1       1              Graham, Miss. Margaret Edith   \n",
            "888          889         0       3  Johnston, Miss. Catherine Helen \"Carrie\"   \n",
            "889          890         1       1                     Behr, Mr. Karl Howell   \n",
            "890          891         0       3                       Dooley, Mr. Patrick   \n",
            "\n",
            "        Sex   Age  SibSp  Parch      Ticket   Fare Cabin Embarked  \n",
            "886    male  27.0      0      0      211536  13.00   NaN        S  \n",
            "887  female  19.0      0      0      112053  30.00   B42        S  \n",
            "888  female   NaN      1      2  W./C. 6607  23.45   NaN        S  \n",
            "889    male  26.0      0      0      111369  30.00  C148        C  \n",
            "890    male  32.0      0      0      370376   7.75   NaN        Q  \n"
          ]
        }
      ]
    },
    {
      "cell_type": "code",
      "source": [
        "print(df.info())\n"
      ],
      "metadata": {
        "colab": {
          "base_uri": "https://localhost:8080/"
        },
        "id": "B3RjkU22q-Ql",
        "outputId": "4dc5d798-f9c1-4ed4-85fa-0db89902d319"
      },
      "execution_count": null,
      "outputs": [
        {
          "output_type": "stream",
          "name": "stdout",
          "text": [
            "<class 'pandas.core.frame.DataFrame'>\n",
            "RangeIndex: 891 entries, 0 to 890\n",
            "Data columns (total 12 columns):\n",
            " #   Column       Non-Null Count  Dtype  \n",
            "---  ------       --------------  -----  \n",
            " 0   PassengerId  891 non-null    int64  \n",
            " 1   Survived     891 non-null    int64  \n",
            " 2   Pclass       891 non-null    int64  \n",
            " 3   Name         891 non-null    object \n",
            " 4   Sex          891 non-null    object \n",
            " 5   Age          714 non-null    float64\n",
            " 6   SibSp        891 non-null    int64  \n",
            " 7   Parch        891 non-null    int64  \n",
            " 8   Ticket       891 non-null    object \n",
            " 9   Fare         891 non-null    float64\n",
            " 10  Cabin        204 non-null    object \n",
            " 11  Embarked     889 non-null    object \n",
            "dtypes: float64(2), int64(5), object(5)\n",
            "memory usage: 83.7+ KB\n",
            "None\n"
          ]
        }
      ]
    },
    {
      "cell_type": "code",
      "source": [
        "print(df.isnull().sum())  # Identify missing values"
      ],
      "metadata": {
        "colab": {
          "base_uri": "https://localhost:8080/"
        },
        "id": "PasFPGOqwNy1",
        "outputId": "73324d4d-a8b0-45a2-cf74-0e35dd42bd9a"
      },
      "execution_count": null,
      "outputs": [
        {
          "output_type": "stream",
          "name": "stdout",
          "text": [
            "PassengerId      0\n",
            "Survived         0\n",
            "Pclass           0\n",
            "Name             0\n",
            "Sex              0\n",
            "Age            177\n",
            "SibSp            0\n",
            "Parch            0\n",
            "Ticket           0\n",
            "Fare             0\n",
            "Cabin          687\n",
            "Embarked         2\n",
            "dtype: int64\n"
          ]
        }
      ]
    },
    {
      "cell_type": "code",
      "source": [
        "# Get all object-type columns\n",
        "categorical_cols = df.select_dtypes(include=['object']).columns.tolist()\n",
        "\n",
        "print(\"Categorical columns:\", categorical_cols)\n"
      ],
      "metadata": {
        "colab": {
          "base_uri": "https://localhost:8080/"
        },
        "id": "7T-KryUc0xzk",
        "outputId": "e8014d8c-869a-4632-cf07-c8d7d7d9bf2f"
      },
      "execution_count": null,
      "outputs": [
        {
          "output_type": "stream",
          "name": "stdout",
          "text": [
            "Categorical columns: ['Name', 'Sex', 'Ticket', 'Cabin', 'Embarked']\n"
          ]
        }
      ]
    },
    {
      "cell_type": "code",
      "source": [
        "#Missing Value Imputation:\n",
        "import numpy as np\n",
        "from sklearn.impute import SimpleImputer\n",
        "\n",
        "# Replace empty strings with NaN in 'Embarked'\n",
        "df['Embarked'] = df['Embarked'].replace('', np.nan)\n",
        "\n",
        "# Mode imputation for 'Embarked'\n",
        "embarked_imputer = SimpleImputer(strategy=\"most_frequent\")\n",
        "df['Embarked'] = embarked_imputer.fit_transform(df[['Embarked']]).ravel()\n",
        "\n",
        "# Replace empty strings or '?' with NaN in 'Age'\n",
        "df['Age'] = df['Age'].replace(['', '?'], np.nan).astype(float)\n",
        "\n",
        "# Median imputation for 'Age'\n",
        "age_imputer = SimpleImputer(strategy=\"median\")\n",
        "df['Age'] = age_imputer.fit_transform(df[['Age']]).ravel()\n",
        "\n",
        "# Check if there are still missing values\n",
        "print(df.isnull().sum())\n"
      ],
      "metadata": {
        "colab": {
          "base_uri": "https://localhost:8080/"
        },
        "id": "oFemcsLe2e9b",
        "outputId": "2dd53d30-aa7e-4fca-c907-3f0294a29952"
      },
      "execution_count": null,
      "outputs": [
        {
          "output_type": "stream",
          "name": "stdout",
          "text": [
            "PassengerId      0\n",
            "Survived         0\n",
            "Pclass           0\n",
            "Name             0\n",
            "Sex              0\n",
            "Age              0\n",
            "SibSp            0\n",
            "Parch            0\n",
            "Ticket           0\n",
            "Fare             0\n",
            "Cabin          687\n",
            "Embarked         0\n",
            "dtype: int64\n"
          ]
        }
      ]
    },
    {
      "cell_type": "code",
      "source": [
        "#Categorical Feature Encoding:\n",
        "import pandas as pd\n",
        "from sklearn.preprocessing import OneHotEncoder, LabelEncoder"
      ],
      "metadata": {
        "id": "VTdH8-KH4Rx7"
      },
      "execution_count": null,
      "outputs": []
    },
    {
      "cell_type": "code",
      "source": [
        "#One-Hot Encoding\n",
        "nominal_features = ['Sex', 'Embarked']\n",
        "nominal_features = [col for col in nominal_features if col in df.columns]\n",
        "\n",
        "df = pd.get_dummies(df, columns=nominal_features, drop_first=True, dtype=int)\n",
        "\n",
        "# Convert boolean columns to integers (0 or 1)\n",
        "bool_columns = ['Sex_male', 'Embarked_Q', 'Embarked_S']\n",
        "\n",
        "for col in bool_columns:\n",
        "    df[col] = df[col].astype(int)\n",
        "\n",
        "# Check the changes\n",
        "print(df.dtypes)\n",
        "print(df.head())\n"
      ],
      "metadata": {
        "colab": {
          "base_uri": "https://localhost:8080/"
        },
        "id": "Q71GKVHl7BAk",
        "outputId": "68a644bb-5da5-42e3-f5c7-017e0cd3080a"
      },
      "execution_count": null,
      "outputs": [
        {
          "output_type": "stream",
          "name": "stdout",
          "text": [
            "PassengerId      int64\n",
            "Survived         int64\n",
            "Pclass           int64\n",
            "Name            object\n",
            "Age            float64\n",
            "SibSp            int64\n",
            "Parch            int64\n",
            "Ticket          object\n",
            "Fare           float64\n",
            "Cabin           object\n",
            "Sex_male         int64\n",
            "Embarked_Q       int64\n",
            "Embarked_S       int64\n",
            "dtype: object\n",
            "   PassengerId  Survived  Pclass  \\\n",
            "0            1         0       3   \n",
            "1            2         1       1   \n",
            "2            3         1       3   \n",
            "3            4         1       1   \n",
            "4            5         0       3   \n",
            "\n",
            "                                                Name   Age  SibSp  Parch  \\\n",
            "0                            Braund, Mr. Owen Harris  22.0      1      0   \n",
            "1  Cumings, Mrs. John Bradley (Florence Briggs Th...  38.0      1      0   \n",
            "2                             Heikkinen, Miss. Laina  26.0      0      0   \n",
            "3       Futrelle, Mrs. Jacques Heath (Lily May Peel)  35.0      1      0   \n",
            "4                           Allen, Mr. William Henry  35.0      0      0   \n",
            "\n",
            "             Ticket     Fare Cabin  Sex_male  Embarked_Q  Embarked_S  \n",
            "0         A/5 21171   7.2500   NaN         1           0           1  \n",
            "1          PC 17599  71.2833   C85         0           0           0  \n",
            "2  STON/O2. 3101282   7.9250   NaN         0           0           1  \n",
            "3            113803  53.1000  C123         0           0           1  \n",
            "4            373450   8.0500   NaN         1           0           1  \n"
          ]
        }
      ]
    },
    {
      "cell_type": "code",
      "source": [
        "#  Label Encoding (Ordinal Features)\n",
        "if 'Deck' in df.columns:\n",
        "    label_encoder = LabelEncoder()\n",
        "    df['Deck'] = label_encoder.fit_transform(df['Deck'])\n",
        "\n",
        "# Check transformed dataset\n",
        "print(df.head())"
      ],
      "metadata": {
        "colab": {
          "base_uri": "https://localhost:8080/"
        },
        "id": "ND4oBpIL5qNN",
        "outputId": "be360b9b-da03-4fc8-f249-350de98f24a4"
      },
      "execution_count": null,
      "outputs": [
        {
          "output_type": "stream",
          "name": "stdout",
          "text": [
            "   PassengerId  Survived  Pclass  \\\n",
            "0            1         0       3   \n",
            "1            2         1       1   \n",
            "2            3         1       3   \n",
            "3            4         1       1   \n",
            "4            5         0       3   \n",
            "\n",
            "                                                Name   Age  SibSp  Parch  \\\n",
            "0                            Braund, Mr. Owen Harris  22.0      1      0   \n",
            "1  Cumings, Mrs. John Bradley (Florence Briggs Th...  38.0      1      0   \n",
            "2                             Heikkinen, Miss. Laina  26.0      0      0   \n",
            "3       Futrelle, Mrs. Jacques Heath (Lily May Peel)  35.0      1      0   \n",
            "4                           Allen, Mr. William Henry  35.0      0      0   \n",
            "\n",
            "             Ticket     Fare Cabin  Sex_male  Embarked_Q  Embarked_S  \n",
            "0         A/5 21171   7.2500   NaN         1           0           1  \n",
            "1          PC 17599  71.2833   C85         0           0           0  \n",
            "2  STON/O2. 3101282   7.9250   NaN         0           0           1  \n",
            "3            113803  53.1000  C123         0           0           1  \n",
            "4            373450   8.0500   NaN         1           0           1  \n"
          ]
        }
      ]
    },
    {
      "cell_type": "code",
      "source": [
        "# Numerical Feature Scaling / Normalization\n",
        "numerical_features = df.select_dtypes(include=['int64', 'float64']).columns\n",
        "\n",
        "# Choose one method: StandardScaler OR MinMaxScaler\n",
        "scaler = StandardScaler()  # Standardization\n",
        "# scaler = MinMaxScaler()  # Normalization\n",
        "\n",
        "df[numerical_features] = scaler.fit_transform(df[numerical_features])\n",
        "\n",
        "# Check transformed dataset\n",
        "print(df.dtypes)\n",
        "print(df.head())"
      ],
      "metadata": {
        "colab": {
          "base_uri": "https://localhost:8080/"
        },
        "id": "Nkd79jZz58WO",
        "outputId": "f92fe86e-2c06-41dd-e7cc-06e59819b04d"
      },
      "execution_count": null,
      "outputs": [
        {
          "output_type": "stream",
          "name": "stdout",
          "text": [
            "PassengerId    float64\n",
            "Survived       float64\n",
            "Pclass         float64\n",
            "Name            object\n",
            "Age            float64\n",
            "SibSp          float64\n",
            "Parch          float64\n",
            "Ticket          object\n",
            "Fare           float64\n",
            "Cabin           object\n",
            "Sex_male       float64\n",
            "Embarked_Q     float64\n",
            "Embarked_S     float64\n",
            "dtype: object\n",
            "   PassengerId  Survived    Pclass  \\\n",
            "0    -1.730108 -0.789272  0.827377   \n",
            "1    -1.726220  1.266990 -1.566107   \n",
            "2    -1.722332  1.266990  0.827377   \n",
            "3    -1.718444  1.266990 -1.566107   \n",
            "4    -1.714556 -0.789272  0.827377   \n",
            "\n",
            "                                                Name       Age     SibSp  \\\n",
            "0                            Braund, Mr. Owen Harris -0.565736  0.432793   \n",
            "1  Cumings, Mrs. John Bradley (Florence Briggs Th...  0.663861  0.432793   \n",
            "2                             Heikkinen, Miss. Laina -0.258337 -0.474545   \n",
            "3       Futrelle, Mrs. Jacques Heath (Lily May Peel)  0.433312  0.432793   \n",
            "4                           Allen, Mr. William Henry  0.433312 -0.474545   \n",
            "\n",
            "      Parch            Ticket      Fare Cabin  Sex_male  Embarked_Q  \\\n",
            "0 -0.473674         A/5 21171 -0.502445   NaN  0.737695   -0.307562   \n",
            "1 -0.473674          PC 17599  0.786845   C85 -1.355574   -0.307562   \n",
            "2 -0.473674  STON/O2. 3101282 -0.488854   NaN -1.355574   -0.307562   \n",
            "3 -0.473674            113803  0.420730  C123 -1.355574   -0.307562   \n",
            "4 -0.473674            373450 -0.486337   NaN  0.737695   -0.307562   \n",
            "\n",
            "   Embarked_S  \n",
            "0    0.615838  \n",
            "1   -1.623803  \n",
            "2    0.615838  \n",
            "3    0.615838  \n",
            "4    0.615838  \n"
          ]
        }
      ]
    },
    {
      "cell_type": "code",
      "source": [
        "#Feature Engineering:\n",
        "# ===== 1. Title Extraction =====\n",
        "# Extract title using regex\n",
        "df['Title'] = df['Name'].str.extract(r' ([A-Za-z]+)\\.', expand=False)\n",
        "\n",
        "# Map similar titles\n",
        "title_mapping = {\n",
        "    'Mlle': 'Miss',\n",
        "    'Ms': 'Miss',\n",
        "    'Mme': 'Mrs',\n",
        "    'Lady': 'Rare',\n",
        "    'Countess': 'Rare',\n",
        "    'Capt': 'Rare',\n",
        "    'Col': 'Rare',\n",
        "    'Don': 'Rare',\n",
        "    'Dr': 'Rare',\n",
        "    'Major': 'Rare',\n",
        "    'Rev': 'Rare',\n",
        "    'Sir': 'Rare',\n",
        "    'Jonkheer': 'Rare',\n",
        "    'Dona': 'Rare'\n",
        "}\n",
        "\n",
        "df['Title'] = df['Title'].replace(title_mapping)\n",
        "\n",
        "# ===== 2. Family Size Creation =====\n",
        "df['FamilySize'] = df['SibSp'] + df['Parch'] + 1  # +1 for self\n",
        "\n",
        "# Preview new features\n",
        "print(df[['Name', 'Title', 'SibSp', 'Parch', 'FamilySize']].head())\n"
      ],
      "metadata": {
        "colab": {
          "base_uri": "https://localhost:8080/"
        },
        "id": "J0IUoo-B_5xq",
        "outputId": "52b917fb-2c9c-41e1-8789-4fffd2e4372d"
      },
      "execution_count": null,
      "outputs": [
        {
          "output_type": "stream",
          "name": "stdout",
          "text": [
            "                                                Name Title  SibSp  Parch  \\\n",
            "0                            Braund, Mr. Owen Harris    Mr      1      0   \n",
            "1  Cumings, Mrs. John Bradley (Florence Briggs Th...   Mrs      1      0   \n",
            "2                             Heikkinen, Miss. Laina  Miss      0      0   \n",
            "3       Futrelle, Mrs. Jacques Heath (Lily May Peel)   Mrs      1      0   \n",
            "4                           Allen, Mr. William Henry    Mr      0      0   \n",
            "\n",
            "   FamilySize  \n",
            "0           2  \n",
            "1           2  \n",
            "2           1  \n",
            "3           2  \n",
            "4           1  \n"
          ]
        }
      ]
    },
    {
      "cell_type": "code",
      "source": [],
      "metadata": {
        "id": "P6EsN3h5A3pZ"
      },
      "execution_count": null,
      "outputs": []
    }
  ]
}